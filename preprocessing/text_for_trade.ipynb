{
 "cells": [
  {
   "cell_type": "code",
   "execution_count": 1,
   "metadata": {},
   "outputs": [],
   "source": [
    "import json\n",
    "import sys \n",
    "sys.path.append('..')\n",
    "from price_preprocess import new_left_company\n"
   ]
  },
  {
   "cell_type": "code",
   "execution_count": 2,
   "metadata": {},
   "outputs": [
    {
     "name": "stdout",
     "output_type": "stream",
     "text": [
      "['2017_1.json', '2017_2.json', '2018_1.json', '2018_2.json', '2019_1.json', '2019_2.json', '2020_1.json', '2020_2.json', '2020_3.json', '2021_1.json', '2021_2.json', '2021_3.json']\n"
     ]
    }
   ],
   "source": [
    "data_file = new_left_company('D:\\毕设code\\data')\n",
    "file_deal = []\n",
    "for elem in data_file:\n",
    "    if elem.find('.json') != -1:\n",
    "        file_deal.append(elem)\n",
    "print(file_deal)"
   ]
  },
  {
   "cell_type": "code",
   "execution_count": 3,
   "metadata": {},
   "outputs": [],
   "source": [
    "company_list = new_left_company('D:\\\\毕设code\\\\news_data_from2016to2021\\\\companies\\\\final_use')"
   ]
  },
  {
   "cell_type": "code",
   "execution_count": 4,
   "metadata": {},
   "outputs": [],
   "source": [
    "company_list = list(map(lambda x:x.replace('.csv',''),company_list))"
   ]
  },
  {
   "cell_type": "code",
   "execution_count": 6,
   "metadata": {},
   "outputs": [
    {
     "name": "stdout",
     "output_type": "stream",
     "text": [
      "完成一个\n",
      "完成一个\n",
      "完成一个\n"
     ]
    }
   ],
   "source": [
    "for file_name in file_deal[9:]:\n",
    "    with open('D:\\\\毕设code\\\\data'+'\\\\'+file_name,'r',encoding='utf-8') as f:\n",
    "        content = json.load(f)\n",
    "    data_left = []\n",
    "    for ele in content:\n",
    "        if ele['company'] in company_list:\n",
    "            data_left.append(ele)\n",
    "    with open('D:\\\\毕设code\\\\data'+'\\\\'+file_name,'wb') as f:\n",
    "        f.write(json.dumps(data_left, indent=4,ensure_ascii=False).encode(encoding='utf-8'))\n",
    "    print('完成一个')"
   ]
  }
 ],
 "metadata": {
  "interpreter": {
   "hash": "44c4d7f837e44efbb06481c2ee89e900c04f72ee2558abe101764a1a3ac9135e"
  },
  "kernelspec": {
   "display_name": "Python 3.9.10 ('bishe')",
   "language": "python",
   "name": "python3"
  },
  "language_info": {
   "codemirror_mode": {
    "name": "ipython",
    "version": 3
   },
   "file_extension": ".py",
   "mimetype": "text/x-python",
   "name": "python",
   "nbconvert_exporter": "python",
   "pygments_lexer": "ipython3",
   "version": "3.9.10"
  },
  "orig_nbformat": 4
 },
 "nbformat": 4,
 "nbformat_minor": 2
}
