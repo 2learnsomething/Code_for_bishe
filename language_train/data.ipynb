{
 "cells": [
  {
   "cell_type": "code",
   "execution_count": 1,
   "metadata": {},
   "outputs": [],
   "source": [
    "from Data import get_field, get_train_set, get_test_set, get_pre_vector, MyTextDataset, MyDataset\n"
   ]
  },
  {
   "cell_type": "code",
   "execution_count": 2,
   "metadata": {},
   "outputs": [],
   "source": [
    "NEWS, LAST_NEWS_PERIOD, LABEL = get_field()"
   ]
  },
  {
   "cell_type": "code",
   "execution_count": 3,
   "metadata": {},
   "outputs": [],
   "source": [
    "vec = get_pre_vector()"
   ]
  },
  {
   "cell_type": "code",
   "execution_count": 4,
   "metadata": {},
   "outputs": [
    {
     "name": "stdout",
     "output_type": "stream",
     "text": [
      "test_set...\n",
      "read data from /new_python_for_gnn/毕设code/data/test_set.json\n",
      "read lables from /new_python_for_gnn/毕设code/data/label_2.npy\n",
      "开始处理example...\n",
      "processing...\n"
     ]
    },
    {
     "name": "stderr",
     "output_type": "stream",
     "text": [
      "0it [00:00, ?it/s]Building prefix dict from the default dictionary ...\n",
      "Loading model from cache /tmp/jieba.cache\n",
      "Loading model cost 0.603 seconds.\n",
      "Prefix dict has been built successfully.\n",
      "270798it [1:08:17, 66.10it/s] \n"
     ]
    }
   ],
   "source": [
    "test = get_test_set(NEWS,LAST_NEWS_PERIOD,LABEL)"
   ]
  },
  {
   "cell_type": "code",
   "execution_count": 13,
   "metadata": {},
   "outputs": [
    {
     "data": {
      "text/plain": [
       "['__add__',\n",
       " '__class__',\n",
       " '__class_getitem__',\n",
       " '__delattr__',\n",
       " '__dict__',\n",
       " '__dir__',\n",
       " '__doc__',\n",
       " '__eq__',\n",
       " '__format__',\n",
       " '__ge__',\n",
       " '__getattr__',\n",
       " '__getattribute__',\n",
       " '__getitem__',\n",
       " '__gt__',\n",
       " '__hash__',\n",
       " '__init__',\n",
       " '__init_subclass__',\n",
       " '__iter__',\n",
       " '__le__',\n",
       " '__len__',\n",
       " '__lt__',\n",
       " '__module__',\n",
       " '__ne__',\n",
       " '__new__',\n",
       " '__orig_bases__',\n",
       " '__parameters__',\n",
       " '__reduce__',\n",
       " '__reduce_ex__',\n",
       " '__repr__',\n",
       " '__setattr__',\n",
       " '__sizeof__',\n",
       " '__slots__',\n",
       " '__str__',\n",
       " '__subclasshook__',\n",
       " '__weakref__',\n",
       " '_is_protocol',\n",
       " 'download',\n",
       " 'dropout',\n",
       " 'examples',\n",
       " 'fields',\n",
       " 'filter_examples',\n",
       " 'name',\n",
       " 'shuffle',\n",
       " 'sort_key',\n",
       " 'split',\n",
       " 'splits']"
      ]
     },
     "execution_count": 13,
     "metadata": {},
     "output_type": "execute_result"
    }
   ],
   "source": [
    "dir(test)"
   ]
  },
  {
   "cell_type": "code",
   "execution_count": 32,
   "metadata": {},
   "outputs": [
    {
     "data": {
      "text/plain": [
       "['安信',\n",
       " '证券',\n",
       " '指出',\n",
       " '长坡',\n",
       " '厚雪好',\n",
       " '赛道',\n",
       " '全球',\n",
       " '电动',\n",
       " '化大',\n",
       " '时代',\n",
       " '到来',\n",
       " '中国',\n",
       " '欧洲',\n",
       " '美国',\n",
       " '市场',\n",
       " '引领',\n",
       " '之下',\n",
       " '全球',\n",
       " '电动',\n",
       " '加速',\n",
       " '推进',\n",
       " '中游',\n",
       " '产业链',\n",
       " '供需',\n",
       " '格局',\n",
       " '持续',\n",
       " '改善',\n",
       " '行业',\n",
       " '环节',\n",
       " '集中度',\n",
       " '呈现',\n",
       " '趋势',\n",
       " '中国',\n",
       " '产业链',\n",
       " '价值',\n",
       " '持续',\n",
       " '凸显',\n",
       " '细分',\n",
       " '领域',\n",
       " '有望',\n",
       " '供需',\n",
       " '平衡',\n",
       " '局面',\n",
       " '细分',\n",
       " '领域',\n",
       " '投资',\n",
       " '机会',\n",
       " '值得',\n",
       " '关注',\n",
       " '建议',\n",
       " '电动车',\n",
       " '板块',\n",
       " '超配',\n",
       " '海外',\n",
       " '需求',\n",
       " '增长',\n",
       " '具备',\n",
       " '全球',\n",
       " '供应',\n",
       " '能力',\n",
       " '电池',\n",
       " '材料',\n",
       " '产业链',\n",
       " '有望',\n",
       " '获利',\n",
       " '优质',\n",
       " '二线',\n",
       " '电池厂',\n",
       " '业绩',\n",
       " '拐点',\n",
       " '有望',\n",
       " '迎来',\n",
       " '价值',\n",
       " '重估',\n",
       " '重点',\n",
       " '推荐',\n",
       " '科技',\n",
       " '亿纬锂',\n",
       " '欣旺达',\n",
       " '建议',\n",
       " '关注',\n",
       " '国轩',\n",
       " '高科',\n",
       " '中游',\n",
       " '材料',\n",
       " '环节',\n",
       " '供需',\n",
       " '格局',\n",
       " '反转',\n",
       " '磷酸',\n",
       " '环节',\n",
       " '重点',\n",
       " '推荐',\n",
       " '新宙邦',\n",
       " '建议',\n",
       " '关注',\n",
       " '多氟多',\n",
       " '天际',\n",
       " '股份',\n",
       " '永太',\n",
       " '科技',\n",
       " '锂电',\n",
       " '铜箔',\n",
       " '环节',\n",
       " '重点',\n",
       " '推荐',\n",
       " '嘉元',\n",
       " '科技',\n",
       " '建议',\n",
       " '关注',\n",
       " '诺德',\n",
       " '股份',\n",
       " '磷酸',\n",
       " '铁锂',\n",
       " '材料',\n",
       " '环节',\n",
       " '重点',\n",
       " '推荐',\n",
       " '德方',\n",
       " '纳米',\n",
       " '建议',\n",
       " '关注',\n",
       " '龙蟠',\n",
       " '科技',\n",
       " '湘潭',\n",
       " '电化',\n",
       " '二级',\n",
       " '市场',\n",
       " '板块',\n",
       " '最火',\n",
       " '新能源',\n",
       " '汽车',\n",
       " '白酒',\n",
       " '股外',\n",
       " '磷酸',\n",
       " '铁锂',\n",
       " '概念股',\n",
       " '跟前',\n",
       " '一阵',\n",
       " '有机硅',\n",
       " '板块',\n",
       " '大涨',\n",
       " '特涨',\n",
       " '涨价',\n",
       " '因素',\n",
       " '使然',\n",
       " '中信证券',\n",
       " '指出',\n",
       " '公交',\n",
       " '电动',\n",
       " '渗透率',\n",
       " '补贴',\n",
       " '政策',\n",
       " '支持',\n",
       " '高能量',\n",
       " '密度',\n",
       " '影响',\n",
       " '磷酸',\n",
       " '铁锂',\n",
       " '材料',\n",
       " '需求',\n",
       " '增长',\n",
       " '三年',\n",
       " '放缓',\n",
       " '材料',\n",
       " '打开',\n",
       " '全新',\n",
       " '空间',\n",
       " '需求',\n",
       " '快速',\n",
       " '转向',\n",
       " '材料',\n",
       " '行业',\n",
       " '三年',\n",
       " '经历',\n",
       " '优胜劣汰',\n",
       " '格局',\n",
       " '清晰',\n",
       " '头部',\n",
       " '企业',\n",
       " '成本',\n",
       " '优势',\n",
       " '盈利',\n",
       " '能力',\n",
       " '有望',\n",
       " '触底',\n",
       " '回升',\n",
       " '材料',\n",
       " '龙头企业',\n",
       " '德方',\n",
       " '纳米',\n",
       " '湘潭',\n",
       " '电化',\n",
       " '安达',\n",
       " '科技',\n",
       " '电池',\n",
       " '环节',\n",
       " '相关',\n",
       " '个股',\n",
       " '宁德',\n",
       " '时代',\n",
       " '比亚迪',\n",
       " '亿纬锂',\n",
       " '欣旺',\n",
       " '达鹏辉',\n",
       " '能源',\n",
       " '国轩',\n",
       " '高科',\n",
       " '一轮',\n",
       " '炒作',\n",
       " '有机硅',\n",
       " '板块',\n",
       " '教训',\n",
       " '涨价',\n",
       " '因素',\n",
       " '导致',\n",
       " '上涨',\n",
       " '来得快',\n",
       " '有机硅',\n",
       " '价格',\n",
       " '回落',\n",
       " '有机硅',\n",
       " '一蹶不振',\n",
       " '原材料',\n",
       " '上涨',\n",
       " '眼睛',\n",
       " '全是',\n",
       " '利好',\n",
       " '回落',\n",
       " '一地',\n",
       " '鸡毛',\n",
       " '劳七桃',\n",
       " '附和',\n",
       " '明白',\n",
       " '跟着',\n",
       " '市场',\n",
       " '热点',\n",
       " '打转',\n",
       " '风险',\n",
       " '进快',\n",
       " '稳妥',\n",
       " '一部分',\n",
       " '跟着',\n",
       " '华风',\n",
       " '短线',\n",
       " '一部分',\n",
       " '跟着',\n",
       " '高智',\n",
       " '价值',\n",
       " '投资',\n",
       " '娇娇',\n",
       " '上周',\n",
       " '跟华风',\n",
       " '操作',\n",
       " '短线',\n",
       " '尝到了',\n",
       " '甜头',\n",
       " '决心',\n",
       " '改弦易辙',\n",
       " '玩玩',\n",
       " '短线',\n",
       " '品种',\n",
       " '赚钱',\n",
       " '好像',\n",
       " '真蛮',\n",
       " '劳七桃',\n",
       " '附和',\n",
       " '一种',\n",
       " '操作',\n",
       " '方式',\n",
       " '挺不错',\n",
       " '卡倍',\n",
       " '涨停',\n",
       " '特斯拉',\n",
       " '概念',\n",
       " '华风',\n",
       " '指出',\n",
       " '股数',\n",
       " '连续',\n",
       " '封板',\n",
       " '证券',\n",
       " '异常',\n",
       " '交易',\n",
       " '自律',\n",
       " '监管',\n",
       " '措施',\n",
       " '涉及',\n",
       " '盘中',\n",
       " '打压',\n",
       " '虚假',\n",
       " '申报',\n",
       " '异常',\n",
       " '交易',\n",
       " '情形',\n",
       " '卡倍',\n",
       " '亿对',\n",
       " '持续',\n",
       " '重点',\n",
       " '监控',\n",
       " '监管',\n",
       " '措施',\n",
       " '记得',\n",
       " '公司公告',\n",
       " '媒体',\n",
       " '公司',\n",
       " '涉及',\n",
       " '特斯拉',\n",
       " '概念',\n",
       " '有失',\n",
       " '偏颇',\n",
       " '未能',\n",
       " '公司',\n",
       " '业务',\n",
       " '情况',\n",
       " '公司',\n",
       " '新能源',\n",
       " '汽车',\n",
       " '线缆',\n",
       " '业务收入',\n",
       " '小且',\n",
       " '特斯拉',\n",
       " '业务',\n",
       " '公司',\n",
       " '新能源',\n",
       " '汽车',\n",
       " '线缆',\n",
       " '整体',\n",
       " '业务',\n",
       " '特斯拉',\n",
       " '相关',\n",
       " '业务',\n",
       " '公司',\n",
       " '经营',\n",
       " '业绩',\n",
       " '影响',\n",
       " '说白了',\n",
       " '公司',\n",
       " '汽车',\n",
       " '整车',\n",
       " '厂商',\n",
       " '二级',\n",
       " '供应商',\n",
       " '汽车',\n",
       " '线束',\n",
       " '厂商',\n",
       " '提供',\n",
       " '汽车',\n",
       " '线缆',\n",
       " '配套',\n",
       " '服务',\n",
       " '汽车',\n",
       " '整车',\n",
       " '厂商',\n",
       " '公司',\n",
       " '客户',\n",
       " '公司',\n",
       " '汽车',\n",
       " '线束',\n",
       " '厂商',\n",
       " '安波福',\n",
       " '电气系统',\n",
       " '有限公司',\n",
       " '特斯拉',\n",
       " '供应',\n",
       " '汽车',\n",
       " '线缆',\n",
       " '业务量',\n",
       " '公司',\n",
       " '销售收入',\n",
       " '比例',\n",
       " '公司',\n",
       " '整体',\n",
       " '业绩',\n",
       " '贡献',\n",
       " '有限',\n",
       " '高智',\n",
       " '该股',\n",
       " '涨停',\n",
       " '一轮',\n",
       " '资金',\n",
       " '炒作',\n",
       " '股价',\n",
       " '短期内',\n",
       " '再创新高',\n",
       " '难度',\n",
       " '短线',\n",
       " '反弹',\n",
       " '朋友',\n",
       " '了结',\n",
       " '不换',\n",
       " '盛天',\n",
       " '网络',\n",
       " '明天',\n",
       " '有没有',\n",
       " '机会',\n",
       " '上涨',\n",
       " '明天',\n",
       " '涨停',\n",
       " '遗憾']"
      ]
     },
     "execution_count": 32,
     "metadata": {},
     "output_type": "execute_result"
    }
   ],
   "source": [
    "test.examples[5000].news"
   ]
  },
  {
   "cell_type": "code",
   "execution_count": 12,
   "metadata": {},
   "outputs": [],
   "source": [
    "import dill \n",
    "with open('/new_python_for_gnn/毕设code/data/test_set','wb') as f:\n",
    "    dill.dump(test.examples,f)"
   ]
  },
  {
   "cell_type": "code",
   "execution_count": 4,
   "metadata": {},
   "outputs": [],
   "source": [
    "import dill"
   ]
  },
  {
   "cell_type": "code",
   "execution_count": 5,
   "metadata": {},
   "outputs": [],
   "source": [
    "from Data import MyDataset\n",
    "with open('/new_python_for_gnn/毕设code/data/test_set','rb') as f:\n",
    "    examples = dill.load(f)\n",
    "fields = [('news', NEWS), ('news_period', LAST_NEWS_PERIOD),\n",
    "                  (\"label\", LABEL)]"
   ]
  },
  {
   "cell_type": "code",
   "execution_count": 6,
   "metadata": {},
   "outputs": [],
   "source": [
    "from Data import MyTextDataset\n",
    "test_set = MyTextDataset(examples,fields)"
   ]
  },
  {
   "cell_type": "code",
   "execution_count": 9,
   "metadata": {},
   "outputs": [
    {
     "name": "stdout",
     "output_type": "stream",
     "text": [
      "train_set...\n",
      "read data from /new_python_for_gnn/毕设code/data/train_set.json\n",
      "read lables from /new_python_for_gnn/毕设code/data/label_2.npy\n",
      "开始处理example...\n",
      "processing...\n"
     ]
    },
    {
     "name": "stderr",
     "output_type": "stream",
     "text": [
      "0it [00:00, ?it/s]Building prefix dict from the default dictionary ...\n",
      "Loading model from cache /tmp/jieba.cache\n",
      "Loading model cost 0.602 seconds.\n",
      "Prefix dict has been built successfully.\n",
      "1089906it [2:56:32, 102.89it/s]\n"
     ]
    }
   ],
   "source": [
    "train = get_train_set(NEWS, LAST_NEWS_PERIOD, LABEL)"
   ]
  },
  {
   "cell_type": "code",
   "execution_count": 12,
   "metadata": {},
   "outputs": [
    {
     "data": {
      "text/plain": [
       "1"
      ]
     },
     "execution_count": 12,
     "metadata": {},
     "output_type": "execute_result"
    }
   ],
   "source": [
    "train.examples[110000].label"
   ]
  },
  {
   "cell_type": "code",
   "execution_count": 13,
   "metadata": {},
   "outputs": [],
   "source": [
    "with open('/new_python_for_gnn/毕设code/data/train_set','wb') as f:\n",
    "    dill.dump(train.examples,f)"
   ]
  },
  {
   "cell_type": "code",
   "execution_count": null,
   "metadata": {},
   "outputs": [],
   "source": [
    "train"
   ]
  },
  {
   "cell_type": "code",
   "execution_count": 3,
   "metadata": {},
   "outputs": [],
   "source": [
    "import dill \n",
    "with open('/new_python_for_gnn/毕设code/data/train_set','rb') as f:\n",
    "    example = dill.load(f)"
   ]
  },
  {
   "cell_type": "code",
   "execution_count": 4,
   "metadata": {},
   "outputs": [
    {
     "data": {
      "text/plain": [
       "list"
      ]
     },
     "execution_count": 4,
     "metadata": {},
     "output_type": "execute_result"
    }
   ],
   "source": [
    "type(example)"
   ]
  },
  {
   "cell_type": "code",
   "execution_count": 5,
   "metadata": {},
   "outputs": [
    {
     "data": {
      "text/plain": [
       "774.0"
      ]
     },
     "execution_count": 5,
     "metadata": {},
     "output_type": "execute_result"
    }
   ],
   "source": [
    "len(example)/1119"
   ]
  },
  {
   "cell_type": "code",
   "execution_count": 6,
   "metadata": {},
   "outputs": [
    {
     "data": {
      "text/plain": [
       "200.0"
      ]
     },
     "execution_count": 6,
     "metadata": {},
     "output_type": "execute_result"
    }
   ],
   "source": [
    "with open('/new_python_for_gnn/毕设code/data/validation_set','rb') as f:\n",
    "    example2 = dill.load(f)\n",
    "len(example2)/1119"
   ]
  },
  {
   "cell_type": "code",
   "execution_count": 1,
   "metadata": {},
   "outputs": [],
   "source": [
    "import sys \n",
    "sys.path.append('..')\n",
    "from Data import PriceDataset\n",
    "TRAIN = PriceDataset(train_or_test='train')"
   ]
  },
  {
   "cell_type": "code",
   "execution_count": 8,
   "metadata": {},
   "outputs": [
    {
     "data": {
      "text/plain": [
       "1089906"
      ]
     },
     "execution_count": 8,
     "metadata": {},
     "output_type": "execute_result"
    }
   ],
   "source": [
    "len(TRAIN)"
   ]
  },
  {
   "cell_type": "code",
   "execution_count": 10,
   "metadata": {},
   "outputs": [
    {
     "name": "stdout",
     "output_type": "stream",
     "text": [
      "torch.Size([1024, 4])\n",
      "torch.Size([1024, 4])\n",
      "torch.Size([1024, 4])\n",
      "torch.Size([1024, 4])\n"
     ]
    }
   ],
   "source": [
    "from torch.utils.data import DataLoader\n",
    "train_loader = DataLoader(TRAIN,batch_size=1024)\n",
    "for index,elem in enumerate(train_loader):\n",
    "    if index <=3:\n",
    "        print(elem.shape)\n",
    "    else:\n",
    "        break"
   ]
  }
 ],
 "metadata": {
  "interpreter": {
   "hash": "33a858e51b3809aed9a5f06a8465667219137969dbd429606ccb60b48ceaeaac"
  },
  "kernelspec": {
   "display_name": "Python 3.9.7 ('base')",
   "language": "python",
   "name": "python3"
  },
  "language_info": {
   "codemirror_mode": {
    "name": "ipython",
    "version": 3
   },
   "file_extension": ".py",
   "mimetype": "text/x-python",
   "name": "python",
   "nbconvert_exporter": "python",
   "pygments_lexer": "ipython3",
   "version": "3.9.7"
  },
  "orig_nbformat": 4
 },
 "nbformat": 4,
 "nbformat_minor": 2
}
